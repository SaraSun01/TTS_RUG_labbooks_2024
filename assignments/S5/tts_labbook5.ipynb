{
 "cells": [
  {
   "cell_type": "code",
   "execution_count": 1,
   "metadata": {
    "colab": {
     "base_uri": "https://localhost:8080/"
    },
    "id": "3RmxmBLexIt8",
    "outputId": "a341c098-3560-4643-d7fe-c1f3c7ae76fd"
   },
   "outputs": [
    {
     "name": "stdout",
     "output_type": "stream",
     "text": [
      "Requirement already satisfied: gtts in d:\\anaconda\\lib\\site-packages (2.5.4)\n",
      "Requirement already satisfied: requests<3,>=2.27 in d:\\anaconda\\lib\\site-packages (from gtts) (2.32.2)\n",
      "Requirement already satisfied: click<8.2,>=7.1 in d:\\anaconda\\lib\\site-packages (from gtts) (8.1.7)\n",
      "Requirement already satisfied: colorama in d:\\anaconda\\lib\\site-packages (from click<8.2,>=7.1->gtts) (0.4.6)\n",
      "Requirement already satisfied: charset-normalizer<4,>=2 in d:\\anaconda\\lib\\site-packages (from requests<3,>=2.27->gtts) (2.0.4)\n",
      "Requirement already satisfied: idna<4,>=2.5 in d:\\anaconda\\lib\\site-packages (from requests<3,>=2.27->gtts) (3.7)\n",
      "Requirement already satisfied: urllib3<3,>=1.21.1 in d:\\anaconda\\lib\\site-packages (from requests<3,>=2.27->gtts) (2.2.2)\n",
      "Requirement already satisfied: certifi>=2017.4.17 in d:\\anaconda\\lib\\site-packages (from requests<3,>=2.27->gtts) (2024.12.14)\n",
      "Requirement already satisfied: gTTS in d:\\anaconda\\lib\\site-packages (2.5.4)\n",
      "Requirement already satisfied: requests<3,>=2.27 in d:\\anaconda\\lib\\site-packages (from gTTS) (2.32.2)\n",
      "Requirement already satisfied: click<8.2,>=7.1 in d:\\anaconda\\lib\\site-packages (from gTTS) (8.1.7)\n",
      "Requirement already satisfied: colorama in d:\\anaconda\\lib\\site-packages (from click<8.2,>=7.1->gTTS) (0.4.6)\n",
      "Requirement already satisfied: charset-normalizer<4,>=2 in d:\\anaconda\\lib\\site-packages (from requests<3,>=2.27->gTTS) (2.0.4)\n",
      "Requirement already satisfied: idna<4,>=2.5 in d:\\anaconda\\lib\\site-packages (from requests<3,>=2.27->gTTS) (3.7)\n",
      "Requirement already satisfied: urllib3<3,>=1.21.1 in d:\\anaconda\\lib\\site-packages (from requests<3,>=2.27->gTTS) (2.2.2)\n",
      "Requirement already satisfied: certifi>=2017.4.17 in d:\\anaconda\\lib\\site-packages (from requests<3,>=2.27->gTTS) (2024.12.14)\n",
      "Requirement already satisfied: librosa in d:\\anaconda\\lib\\site-packages (0.10.2.post1)\n",
      "Requirement already satisfied: audioread>=2.1.9 in d:\\anaconda\\lib\\site-packages (from librosa) (3.0.1)\n",
      "Requirement already satisfied: numpy!=1.22.0,!=1.22.1,!=1.22.2,>=1.20.3 in d:\\anaconda\\lib\\site-packages (from librosa) (1.26.4)\n",
      "Requirement already satisfied: scipy>=1.2.0 in d:\\anaconda\\lib\\site-packages (from librosa) (1.13.1)\n",
      "Requirement already satisfied: scikit-learn>=0.20.0 in d:\\anaconda\\lib\\site-packages (from librosa) (1.4.2)\n",
      "Requirement already satisfied: joblib>=0.14 in d:\\anaconda\\lib\\site-packages (from librosa) (1.4.2)\n",
      "Requirement already satisfied: decorator>=4.3.0 in d:\\anaconda\\lib\\site-packages (from librosa) (5.1.1)\n",
      "Requirement already satisfied: numba>=0.51.0 in d:\\anaconda\\lib\\site-packages (from librosa) (0.59.1)\n",
      "Requirement already satisfied: soundfile>=0.12.1 in d:\\anaconda\\lib\\site-packages (from librosa) (0.12.1)\n",
      "Requirement already satisfied: pooch>=1.1 in d:\\anaconda\\lib\\site-packages (from librosa) (1.8.2)\n",
      "Requirement already satisfied: soxr>=0.3.2 in d:\\anaconda\\lib\\site-packages (from librosa) (0.5.0.post1)\n",
      "Requirement already satisfied: typing-extensions>=4.1.1 in d:\\anaconda\\lib\\site-packages (from librosa) (4.11.0)\n",
      "Requirement already satisfied: lazy-loader>=0.1 in d:\\anaconda\\lib\\site-packages (from librosa) (0.4)\n",
      "Requirement already satisfied: msgpack>=1.0 in d:\\anaconda\\lib\\site-packages (from librosa) (1.0.3)\n",
      "Requirement already satisfied: packaging in d:\\anaconda\\lib\\site-packages (from lazy-loader>=0.1->librosa) (23.2)\n",
      "Requirement already satisfied: llvmlite<0.43,>=0.42.0dev0 in d:\\anaconda\\lib\\site-packages (from numba>=0.51.0->librosa) (0.42.0)\n",
      "Requirement already satisfied: platformdirs>=2.5.0 in d:\\anaconda\\lib\\site-packages (from pooch>=1.1->librosa) (3.10.0)\n",
      "Requirement already satisfied: requests>=2.19.0 in d:\\anaconda\\lib\\site-packages (from pooch>=1.1->librosa) (2.32.2)\n",
      "Requirement already satisfied: threadpoolctl>=2.0.0 in d:\\anaconda\\lib\\site-packages (from scikit-learn>=0.20.0->librosa) (2.2.0)\n",
      "Requirement already satisfied: cffi>=1.0 in d:\\anaconda\\lib\\site-packages (from soundfile>=0.12.1->librosa) (1.16.0)\n",
      "Requirement already satisfied: pycparser in d:\\anaconda\\lib\\site-packages (from cffi>=1.0->soundfile>=0.12.1->librosa) (2.21)\n",
      "Requirement already satisfied: charset-normalizer<4,>=2 in d:\\anaconda\\lib\\site-packages (from requests>=2.19.0->pooch>=1.1->librosa) (2.0.4)\n",
      "Requirement already satisfied: idna<4,>=2.5 in d:\\anaconda\\lib\\site-packages (from requests>=2.19.0->pooch>=1.1->librosa) (3.7)\n",
      "Requirement already satisfied: urllib3<3,>=1.21.1 in d:\\anaconda\\lib\\site-packages (from requests>=2.19.0->pooch>=1.1->librosa) (2.2.2)\n",
      "Requirement already satisfied: certifi>=2017.4.17 in d:\\anaconda\\lib\\site-packages (from requests>=2.19.0->pooch>=1.1->librosa) (2024.12.14)\n"
     ]
    }
   ],
   "source": [
    "!pip install gtts\n",
    "!pip install --upgrade gTTS\n",
    "!pip install librosa\n",
    "import librosa\n",
    "import json\n",
    "from gtts import gTTS\n",
    "import os\n",
    "import soundfile as sf\n",
    "import numpy as np"
   ]
  },
  {
   "cell_type": "code",
   "execution_count": 2,
   "metadata": {
    "colab": {
     "base_uri": "https://localhost:8080/"
    },
    "id": "l6K2hgMcY9jC",
    "outputId": "b307f354-51ce-4f7c-baa5-da7037171576"
   },
   "outputs": [
    {
     "name": "stdout",
     "output_type": "stream",
     "text": [
      "Generated: output_0_friend_1.wav\n",
      "Generated: output_1_friend_2.wav\n",
      "Generated: output_2_friend_1.wav\n",
      "Generated: output_3_friend_2.wav\n",
      "Generated: output_4_friend_1.wav\n",
      "Generated: output_5_friend_2.wav\n",
      "Generated: output_6_friend_1.wav\n",
      "Generated: output_7_friend_2.wav\n",
      "Generated: output_8_friend_1.wav\n",
      "Generated: output_9_friend_2.wav\n",
      "All audio files generated successfully!\n"
     ]
    }
   ],
   "source": [
    "\n",
    "# Original transcribed text generated by chatgpt\n",
    "transcript = [\n",
    "    {\"speaker\": \"friend_1\", \"utterance\": \"Hey! How’s it going?\"},\n",
    "    {\"speaker\": \"friend_2\", \"utterance\": \"Hey! I’m good, thanks. Just got back from the park with Grog Strongjaw. He had a blast chasing squirrels.\"},\n",
    "    {\"speaker\": \"friend_1\", \"utterance\": \"Grog Strongjaw always has so much energy! I wish Chancellor Zorg had half his enthusiasm.\"},\n",
    "    {\"speaker\": \"friend_2\", \"utterance\": \"Well, you know how it is with labs. They’re like perpetual motion machines. How’s Chancellor Zorg doing?\"},\n",
    "    {\"speaker\": \"friend_1\", \"utterance\": \"Oh, he’s his usual self—spending hours perched on the couch like he’s royalty. He did bark at the delivery guy today, though.\"},\n",
    "    {\"speaker\": \"friend_2\", \"utterance\": \"That’s classic Chancellor Zorg! Meanwhile, Captain Snugglebottom decided to bury three bones in my garden yesterday. Took me ages to find them!\"},\n",
    "    {\"speaker\": \"friend_1\", \"utterance\": \"Captain Snugglebottom is such a rascal. At least he’s keeping you entertained! By the way, did you hear about Duchess Whiskerfluff?\"},\n",
    "    {\"speaker\": \"friend_2\", \"utterance\": \"No, what happened?\"},\n",
    "    {\"speaker\": \"friend_1\", \"utterance\": \"She’s been refusing to eat anything except tuna souffle. My sister says she’s turning into a diva.\"},\n",
    "    {\"speaker\": \"friend_2\", \"utterance\": \"Well, she does sound like feline royalty! Meanwhile, Professor Floppsypaws managed to escape his crate again. He’s too clever for his own good.\"},\n",
    "]\n",
    "\n",
    "# Replace strange pet names with nice ones\n",
    "substitution_dict = {\n",
    "    \"Grog Strongjaw\": \"fluffball\",\n",
    "    \"Chancellor Zorg\": \"sunshine\",\n",
    "    \"Captain Snugglebottom\": \"honeybuns\",\n",
    "    \"Duchess Whiskerfluff\": \"purrfect princess\",\n",
    "    \"Professor Floppsypaws\": \"wiggles\"\n",
    "}\n",
    "\n",
    "# Create a function to replace strange names in the text\n",
    "def substitute_names(transcript, substitutions):\n",
    "    for entry in transcript:\n",
    "        for original, replacement in substitutions.items():\n",
    "            entry[\"utterance\"] = entry[\"utterance\"].replace(original, replacement)\n",
    "    return transcript\n",
    "\n",
    "customized_transcript = substitute_names(transcript, substitution_dict)\n",
    "\n",
    "# Using gTTS to generate speech\n",
    "for i, entry in enumerate(customized_transcript):\n",
    "    speaker = entry[\"speaker\"]\n",
    "    utterance = entry[\"utterance\"]\n",
    "\n",
    "    # Set different English accents by speaker\n",
    "    if speaker == \"friend_1\":\n",
    "        tts = gTTS(utterance, lang=\"en\",tld=\"com.au\")  # Australian English\n",
    "    else:\n",
    "        tts = gTTS(utterance, lang=\"en\",tld=\"co.uk\")  # British English\n",
    "\n",
    "    # Save the generated audio\n",
    "    output_file = f\"output_{i}_{speaker}.wav\"\n",
    "    tts.save(output_file)\n",
    "    print(f\"Generated: {output_file}\")\n",
    "\n",
    "print(\"All audio files generated successfully!\")\n"
   ]
  },
  {
   "cell_type": "code",
   "execution_count": 8,
   "metadata": {
    "colab": {
     "base_uri": "https://localhost:8080/"
    },
    "id": "Evd-0GvfKOxs",
    "outputId": "3bc96a77-2111-4ee7-d4e3-80357c6b9b50"
   },
   "outputs": [
    {
     "name": "stdout",
     "output_type": "stream",
     "text": [
      "Loaded: merged_dialogue.wav\n",
      "Loaded: output_0_friend_1.wav\n",
      "Loaded: output_1_friend_2.wav\n",
      "Loaded: output_2_friend_1.wav\n",
      "Loaded: output_3_friend_2.wav\n",
      "Loaded: output_4_friend_1.wav\n",
      "Loaded: output_5_friend_2.wav\n",
      "Loaded: output_6_friend_1.wav\n",
      "Loaded: output_7_friend_2.wav\n",
      "Loaded: output_8_friend_1.wav\n",
      "Loaded: output_9_friend_2.wav\n",
      "Merged audio saved as merged_dialogue.wav\n"
     ]
    }
   ],
   "source": [
    "# Set the audio folder and output file name\n",
    "audio_folder = \".\"  # current directory\n",
    "output_file = \"merged_dialogue.wav\"\n",
    "\n",
    "# Get a list of audio files and sort them\n",
    "audio_files = [f for f in os.listdir(audio_folder) if f.endswith(\".wav\")]\n",
    "audio_files.sort()  \n",
    "\n",
    "# Initialisation to store the concatenated audio file\n",
    "merged_audio = []\n",
    "sample_rate = None  \n",
    "\n",
    "# Load audio files one by one and concatenate them together\n",
    "for audio_file in audio_files:\n",
    "    # load audio files\n",
    "    audio_path = os.path.join(audio_folder, audio_file)\n",
    "    y, sr = librosa.load(audio_path, sr=None)  \n",
    "    merged_audio.append(y)  # Adding audio data to the list\n",
    "    print(f\"Loaded: {audio_file}\")\n",
    "    \n",
    "    if sample_rate is None:\n",
    "        sample_rate = sr  # Record sample rate, assuming all files are the same\n",
    "# concatenate audio data\n",
    "merged_audio = np.concatenate(merged_audio)\n",
    "\n",
    "# Save the merged audio file\n",
    "sf.write(output_file, merged_audio, sample_rate)\n",
    "print(f\"Merged audio saved as {output_file}\")"
   ]
  },
  {
   "cell_type": "code",
   "execution_count": null,
   "metadata": {},
   "outputs": [],
   "source": []
  }
 ],
 "metadata": {
  "colab": {
   "provenance": []
  },
  "kernelspec": {
   "display_name": "Python 3 (ipykernel)",
   "language": "python",
   "name": "python3"
  },
  "language_info": {
   "codemirror_mode": {
    "name": "ipython",
    "version": 3
   },
   "file_extension": ".py",
   "mimetype": "text/x-python",
   "name": "python",
   "nbconvert_exporter": "python",
   "pygments_lexer": "ipython3",
   "version": "3.12.4"
  }
 },
 "nbformat": 4,
 "nbformat_minor": 4
}
